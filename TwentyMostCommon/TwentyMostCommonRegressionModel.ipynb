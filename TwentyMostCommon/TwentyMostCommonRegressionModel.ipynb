{
 "cells": [
  {
   "cell_type": "code",
   "execution_count": 180,
   "metadata": {},
   "outputs": [],
   "source": [
    "#This model was built using the 20 most common codes from AdmittingDiagnosis and ICD9 Diagnosis codes 1 - 4\n",
    "import pandas as pd\n",
    "import numpy as np\n",
    "from sklearn.linear_model import LinearRegression\n",
    "from sklearn.model_selection import train_test_split\n",
    "from sklearn.metrics import mean_squared_error, r2_score\n",
    "import matplotlib.pyplot as plt\n",
    "import scipy\n",
    "\n",
    "#location in s3\n",
    "#bckt = 'inpatientclaims'\n",
    "#data_key = 'DGNS_1_4.csv'\n",
    "#data_location = 's3://{}/{}'.format(bckt,data_key)\n",
    "\n",
    "#set headers and read into df\n",
    "headers = [\"PaymentAmount\", \"AdmittingDiagnosis\", \"Deductible\", \"DayCount\", \"ICD9_DGNS_CD_1\", \"ICD9_DGNS_CD_2\", \"ICD9_DGNS_CD_3\",\n",
    "          \"ICD9_DGNS_CD_4\"]\n",
    "\n",
    "#read data\n",
    "#na values = 0\n",
    "df = pd.read_csv('TwentyMostCommonData.csv', header = None, names = headers, na_values = \"0\", low_memory = False)\n",
    "\n",
    "#drop headers from table\n",
    "df.drop([0], inplace = True)\n",
    "\n",
    "#replace NaN with 0\n",
    "df = df.replace(np.nan, '0')"
   ]
  },
  {
   "cell_type": "code",
   "execution_count": 181,
   "metadata": {},
   "outputs": [],
   "source": [
    "#convert 'PaymentAmount' to numeric values\n",
    "df[\"PaymentAmount\"] = pd.to_numeric(df[\"PaymentAmount\"])\n",
    "\n",
    "#drop PaymentAmount == 0 or > 25000\n",
    "#attempt to handle outliers\n",
    "df = df[df['PaymentAmount'] != 0]\n",
    "df.drop(df[df['PaymentAmount'] > 25000].index, inplace = True)\n",
    "\n",
    "#improves accuracy\n",
    "df = df.drop(columns = 'DayCount')\n",
    "#df = df.drop(columns = 'Deductible')"
   ]
  },
  {
   "cell_type": "code",
   "execution_count": 182,
   "metadata": {},
   "outputs": [],
   "source": [
    "#create dummy variables\n",
    "dummyAdmittingDiagnosis = pd.get_dummies(df['AdmittingDiagnosis'], prefix = 'AD')\n",
    "dummyDgnsCd1 = pd.get_dummies(df['ICD9_DGNS_CD_1'], prefix = 'CD1')\n",
    "dummyDgnsCd2 = pd.get_dummies(df['ICD9_DGNS_CD_2'], prefix = 'CD2')\n",
    "dummyDgnsCd3 = pd.get_dummies(df['ICD9_DGNS_CD_3'], prefix = 'CD3')\n",
    "dummyDgnsCd4 = pd.get_dummies(df['ICD9_DGNS_CD_4'], prefix = 'CD4')"
   ]
  },
  {
   "cell_type": "code",
   "execution_count": 183,
   "metadata": {
    "scrolled": true
   },
   "outputs": [],
   "source": [
    "#drop columns\n",
    "del df['AdmittingDiagnosis']\n",
    "del df['ICD9_DGNS_CD_1']\n",
    "del df['ICD9_DGNS_CD_2']\n",
    "del df['ICD9_DGNS_CD_3']\n",
    "del df['ICD9_DGNS_CD_4']"
   ]
  },
  {
   "cell_type": "code",
   "execution_count": 184,
   "metadata": {},
   "outputs": [],
   "source": [
    "#concatenate dummies onto table\n",
    "df = pd.concat([df, dummyAdmittingDiagnosis], axis = 1)\n",
    "df = pd.concat([df, dummyDgnsCd1], axis = 1)\n",
    "df = pd.concat([df, dummyDgnsCd2], axis = 1)\n",
    "df = pd.concat([df, dummyDgnsCd3], axis = 1)\n",
    "df = pd.concat([df, dummyDgnsCd4], axis = 1)"
   ]
  },
  {
   "cell_type": "code",
   "execution_count": 185,
   "metadata": {},
   "outputs": [],
   "source": [
    "#handling of outliers\n",
    "q_low = df[\"PaymentAmount\"].quantile(0.01)\n",
    "q_hi  = df[\"PaymentAmount\"].quantile(0.99)\n",
    "df = df[(df[\"PaymentAmount\"] < q_hi) & (df[\"PaymentAmount\"] > q_low)]"
   ]
  },
  {
   "cell_type": "code",
   "execution_count": 186,
   "metadata": {},
   "outputs": [],
   "source": [
    "#drop df without PymentAmount into x\n",
    "x = df.drop('PaymentAmount', axis = 1)"
   ]
  },
  {
   "cell_type": "code",
   "execution_count": 187,
   "metadata": {
    "scrolled": true
   },
   "outputs": [],
   "source": [
    "#set PaymentAmount as target in y\n",
    "y = df[['PaymentAmount']]"
   ]
  },
  {
   "cell_type": "code",
   "execution_count": 188,
   "metadata": {},
   "outputs": [],
   "source": [
    "#split dataset into train and test set\n",
    "#20% for testing\n",
    "x_train, x_test, y_train, y_test = train_test_split(x, y, test_size=0.2,random_state=1)"
   ]
  },
  {
   "cell_type": "code",
   "execution_count": 189,
   "metadata": {},
   "outputs": [],
   "source": [
    "#assign linear regression and fit\n",
    "reg = LinearRegression()\n",
    "reg.fit(x_train, y_train)\n",
    "y_predicted = reg.predict(x_test)"
   ]
  },
  {
   "cell_type": "code",
   "execution_count": 190,
   "metadata": {
    "scrolled": true
   },
   "outputs": [
    {
     "name": "stdout",
     "output_type": "stream",
     "text": [
      "Mean squared error: 8323341.72\n",
      "R²: 0.46\n"
     ]
    }
   ],
   "source": [
    "#cast to list\n",
    "predicted = y_predicted.tolist()\n",
    "test = y_test.values.tolist()\n",
    "print(\"Mean squared error: %.2f\" % mean_squared_error(y_test, y_predicted))\n",
    "print('R²: %.2f' % r2_score(y_test, y_predicted))"
   ]
  },
  {
   "cell_type": "code",
   "execution_count": 191,
   "metadata": {},
   "outputs": [
    {
     "data": {
      "image/png": "[encoded data removed]",
      "text/plain": [
       "<Figure size 432x288 with 1 Axes>"
      ]
     },
     "metadata": {
      "needs_background": "light"
     },
     "output_type": "display_data"
    }
   ],
   "source": [
    "#plot test values\n",
    "fig, ax = plt.subplots()\n",
    "ax.scatter(test, predicted)\n",
    "ax.plot([y_test.min(), y_test.max()], [y_test.min(), y_test.max()], 'k--', lw=4)\n",
    "ax.set_xlabel('measured')\n",
    "ax.set_ylabel('predicted')\n",
    "plt.show()"
   ]
  },
  {
   "cell_type": "code",
   "execution_count": 192,
   "metadata": {},
   "outputs": [
    {
     "data": {
      "text/plain": [
       "array([[5938.91210938],\n",
       "       [7222.54101562],\n",
       "       [9032.38476562],\n",
       "       [5868.10742188],\n",
       "       [2892.45507812],\n",
       "       [5861.37109375],\n",
       "       [4518.3671875 ],\n",
       "       [5259.07421875],\n",
       "       [6309.83789062],\n",
       "       [4764.04492188]])"
      ]
     },
     "execution_count": 192,
     "metadata": {},
     "output_type": "execute_result"
    }
   ],
   "source": [
    "#testing predictions\n",
    "reg.predict(x[0:10])\n"
   ]
  },
  {
   "cell_type": "code",
   "execution_count": null,
   "metadata": {},
   "outputs": [],
   "source": []
  }
 ],
 "metadata": {
  "kernelspec": {
   "display_name": "conda_python3",
   "language": "python",
   "name": "conda_python3"
  },
  "language_info": {
   "codemirror_mode": {
    "name": "ipython",
    "version": 3
   },
   "file_extension": ".py",
   "mimetype": "text/x-python",
   "name": "python",
   "nbconvert_exporter": "python",
   "pygments_lexer": "ipython3",
   "version": "3.6.10"
  }
 },
 "nbformat": 4,
 "nbformat_minor": 4
}
